{
 "cells": [
  {
   "cell_type": "code",
   "execution_count": 9,
   "metadata": {},
   "outputs": [],
   "source": [
    "from transformers import pipeline, Conversation, AutoModelForCausalLM, AutoTokenizer\n",
    "import torch\n",
    "model_name = \"facebook/blenderbot-1B-distill\"\n",
    "\n",
    "tokenizer = AutoTokenizer.from_pretrained(model_name)\n",
    "model = AutoModelForCausalLM.from_pretrained(model_name)\n",
    "\n",
    "\n",
    "if torch.cuda.is_available():\n",
    "    print(\"cuda available, using cuda!\")\n",
    "    model = model.to(\"cuda\")\n",
    "\n",
    "#generator = pipeline(\"conversational\", model=model, tokenizer=tokenizer)   # takes upwards of 1 min, immeseured.\n",
    "#generator = pipeline(\"conversational\", model=model_name)     # 12 sec\n",
    "generator = pipeline(\"conversational\", model=model, tokenizer=tokenizer)   # 15sec"
   ]
  },
  {
   "cell_type": "code",
   "execution_count": 10,
   "metadata": {},
   "outputs": [],
   "source": [
    "convo = Conversation(\"Hi, what's your name?\")\n"
   ]
  },
  {
   "cell_type": "code",
   "execution_count": 11,
   "metadata": {},
   "outputs": [],
   "source": [
    "response = generator(convo)   #takes 12 seconds with just model=model_name as param"
   ]
  },
  {
   "cell_type": "code",
   "execution_count": 12,
   "metadata": {},
   "outputs": [
    {
     "data": {
      "text/plain": [
       "Conversation id: f5d3b8b6-b7a0-4734-8f5a-a8d6931c61c1\n",
       "user: Hi, what's your name?\n",
       "assistant:  I I Do I   I, of course, like me?"
      ]
     },
     "execution_count": 12,
     "metadata": {},
     "output_type": "execute_result"
    }
   ],
   "source": [
    "response"
   ]
  },
  {
   "cell_type": "code",
   "execution_count": 13,
   "metadata": {},
   "outputs": [],
   "source": [
    "convo.add_user_input(\"Alrighty\")\n",
    "convo = generator(convo)"
   ]
  },
  {
   "cell_type": "code",
   "execution_count": 14,
   "metadata": {},
   "outputs": [
    {
     "data": {
      "text/plain": [
       "Conversation id: f5d3b8b6-b7a0-4734-8f5a-a8d6931c61c1\n",
       "user: Hi, what's your name?\n",
       "assistant:  I I Do I   I, of course, like me?\n",
       "user: Alrighty\n",
       "assistant: "
      ]
     },
     "execution_count": 14,
     "metadata": {},
     "output_type": "execute_result"
    }
   ],
   "source": [
    "convo"
   ]
  },
  {
   "cell_type": "markdown",
   "metadata": {},
   "source": [
    "Now to add a way for user inputs"
   ]
  },
  {
   "cell_type": "code",
   "execution_count": 15,
   "metadata": {},
   "outputs": [],
   "source": [
    "import gradio as gr"
   ]
  },
  {
   "cell_type": "code",
   "execution_count": 16,
   "metadata": {},
   "outputs": [
    {
     "name": "stdout",
     "output_type": "stream",
     "text": [
      "Running on local URL:  http://127.0.0.1:7861\n",
      "\n",
      "To create a public link, set `share=True` in `launch()`.\n"
     ]
    },
    {
     "data": {
      "text/html": [
       "<div><iframe src=\"http://127.0.0.1:7861/\" width=\"100%\" height=\"500\" allow=\"autoplay; camera; microphone; clipboard-read; clipboard-write;\" frameborder=\"0\" allowfullscreen></iframe></div>"
      ],
      "text/plain": [
       "<IPython.core.display.HTML object>"
      ]
     },
     "metadata": {},
     "output_type": "display_data"
    },
    {
     "data": {
      "text/plain": []
     },
     "execution_count": 16,
     "metadata": {},
     "output_type": "execute_result"
    }
   ],
   "source": [
    "inputs = []\n",
    "responses = []\n",
    "# inputs and responses could be combined to form a 'memory' of sorts\n",
    "# how to implement backstory/key memories? need to research\n",
    "\n",
    "def convo_bot(input, response):\n",
    "    convo = Conversation(text=input, past_user_inputs=inputs, generated_responses=responses)\n",
    "    convo = generator(convo)\n",
    "    return convo.generated_responses[-1]\n",
    "\n",
    "demo = gr.ChatInterface(convo_bot, title=\"Vanilla Chatbot\", description=\"...\")\n",
    "demo.launch()"
   ]
  }
 ],
 "metadata": {
  "kernelspec": {
   "display_name": "Python 3",
   "language": "python",
   "name": "python3"
  },
  "language_info": {
   "codemirror_mode": {
    "name": "ipython",
    "version": 3
   },
   "file_extension": ".py",
   "mimetype": "text/x-python",
   "name": "python",
   "nbconvert_exporter": "python",
   "pygments_lexer": "ipython3",
   "version": "3.12.3"
  }
 },
 "nbformat": 4,
 "nbformat_minor": 2
}
