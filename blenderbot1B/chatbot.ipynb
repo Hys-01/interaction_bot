{
 "cells": [
  {
   "cell_type": "code",
   "execution_count": 1,
   "metadata": {},
   "outputs": [
    {
     "name": "stdout",
     "output_type": "stream",
     "text": [
      "True\n",
      "0\n",
      "NVIDIA GeForce RTX 2070 SUPER\n"
     ]
    }
   ],
   "source": [
    "from transformers import pipeline, Conversation, AutoModelForCausalLM, AutoTokenizer, AutoModelForSeq2SeqLM\n",
    "import torch\n",
    "model_name = \"facebook/blenderbot-1B-distill\"\n",
    "\n",
    "print(torch.cuda.is_available())\n",
    "print(torch.cuda.current_device())\n",
    "print(torch.cuda.get_device_name(torch.cuda.current_device()))"
   ]
  },
  {
   "cell_type": "code",
   "execution_count": 2,
   "metadata": {},
   "outputs": [
    {
     "name": "stderr",
     "output_type": "stream",
     "text": [
      "The `load_in_4bit` and `load_in_8bit` arguments are deprecated and will be removed in the future versions. Please, pass a `BitsAndBytesConfig` object in `quantization_config` argument instead.\n",
      "`low_cpu_mem_usage` was None, now set to True since model is quantized.\n"
     ]
    }
   ],
   "source": [
    "\n",
    "\n",
    "tokenizer = AutoTokenizer.from_pretrained(model_name)\n",
    "#model = AutoModelForCausalLM.from_pretrained(model_name)\n",
    "\n",
    "# using Seq2Seq pipeline model=model. using Causal pipeline model=model breaks. Causal pipline model=model_name works fine but\n",
    "# just for potential model customization in future, like down here with torch_dtype, using model=model better so need to use Seq2Seq\n",
    "# torch_dtype=torch.float16, load_in_8bit=True REDUCES TIME FROM 12S TO 3S! confirmed via testing.\n",
    "model = AutoModelForSeq2SeqLM.from_pretrained(model_name,\n",
    "        torch_dtype=torch.float16, load_in_8bit=True)\n",
    "\n",
    "\n",
    "#generator = pipeline(\"conversational\", model=model, tokenizer=tokenizer)   # takes upwards of 1 min, immeseured.\n",
    "#generator = pipeline(\"conversational\", model=model_name)     # 12 sec\n",
    "generator = pipeline(\"conversational\", model=model, tokenizer=tokenizer)   # 15sec"
   ]
  },
  {
   "cell_type": "code",
   "execution_count": 3,
   "metadata": {},
   "outputs": [],
   "source": [
    "convo = Conversation(\"Hi, what's your name?\")\n"
   ]
  },
  {
   "cell_type": "code",
   "execution_count": 4,
   "metadata": {},
   "outputs": [
    {
     "name": "stderr",
     "output_type": "stream",
     "text": [
      "No chat template is set for this tokenizer, falling back to a default class-level template. This is very error-prone, because models are often trained with templates different from the class default! Default chat templates are a legacy feature and will be removed in Transformers v4.43, at which point any code depending on them will stop working. We recommend setting a valid chat template before then to ensure that this model continues working without issues.\n"
     ]
    }
   ],
   "source": [
    "response = generator(convo) "
   ]
  },
  {
   "cell_type": "code",
   "execution_count": 5,
   "metadata": {},
   "outputs": [
    {
     "name": "stdout",
     "output_type": "stream",
     "text": [
      "Conversation id: be55b29d-a133-4d2a-acd3-e7d3139a318d\n",
      "user: Hi, what's your name?\n",
      "assistant:  Hi, my name is samantha. How are you doing this fine evening?\n",
      "\n"
     ]
    }
   ],
   "source": [
    "print(response)"
   ]
  },
  {
   "cell_type": "code",
   "execution_count": 6,
   "metadata": {},
   "outputs": [],
   "source": [
    "convo.add_user_input(\"Alrighty\")\n",
    "convo = generator(convo)"
   ]
  },
  {
   "cell_type": "code",
   "execution_count": 7,
   "metadata": {},
   "outputs": [
    {
     "data": {
      "text/plain": [
       "Conversation id: be55b29d-a133-4d2a-acd3-e7d3139a318d\n",
       "user: Hi, what's your name?\n",
       "assistant:  Hi, my name is samantha. How are you doing this fine evening?\n",
       "user: Alrighty\n",
       "assistant:  What do you like to do in your spare time? I like to watch movies and play video games."
      ]
     },
     "execution_count": 7,
     "metadata": {},
     "output_type": "execute_result"
    }
   ],
   "source": [
    "convo"
   ]
  },
  {
   "cell_type": "markdown",
   "metadata": {},
   "source": [
    "Now to add a way for user inputs"
   ]
  },
  {
   "cell_type": "code",
   "execution_count": null,
   "metadata": {},
   "outputs": [],
   "source": [
    "import gradio as gr"
   ]
  },
  {
   "cell_type": "code",
   "execution_count": null,
   "metadata": {},
   "outputs": [
    {
     "name": "stdout",
     "output_type": "stream",
     "text": [
      "Running on local URL:  http://127.0.0.1:7861\n",
      "\n",
      "To create a public link, set `share=True` in `launch()`.\n"
     ]
    },
    {
     "data": {
      "text/html": [
       "<div><iframe src=\"http://127.0.0.1:7861/\" width=\"100%\" height=\"500\" allow=\"autoplay; camera; microphone; clipboard-read; clipboard-write;\" frameborder=\"0\" allowfullscreen></iframe></div>"
      ],
      "text/plain": [
       "<IPython.core.display.HTML object>"
      ]
     },
     "metadata": {},
     "output_type": "display_data"
    },
    {
     "data": {
      "text/plain": []
     },
     "execution_count": 16,
     "metadata": {},
     "output_type": "execute_result"
    }
   ],
   "source": [
    "inputs = []\n",
    "responses = []\n",
    "# inputs and responses could be combined to form a 'memory' of sorts\n",
    "# how to implement backstory/key memories? need to research\n",
    "\n",
    "def convo_bot(input, response):\n",
    "    convo = Conversation(text=input, past_user_inputs=inputs, generated_responses=responses)\n",
    "    convo = generator(convo)\n",
    "    return convo.generated_responses[-1]\n",
    "\n",
    "demo = gr.ChatInterface(convo_bot, title=\"Vanilla Chatbot\", description=\"...\")\n",
    "demo.launch()"
   ]
  }
 ],
 "metadata": {
  "kernelspec": {
   "display_name": "Python 3",
   "language": "python",
   "name": "python3"
  },
  "language_info": {
   "codemirror_mode": {
    "name": "ipython",
    "version": 3
   },
   "file_extension": ".py",
   "mimetype": "text/x-python",
   "name": "python",
   "nbconvert_exporter": "python",
   "pygments_lexer": "ipython3",
   "version": "3.12.3"
  }
 },
 "nbformat": 4,
 "nbformat_minor": 2
}
