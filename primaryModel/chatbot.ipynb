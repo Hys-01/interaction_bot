{
 "cells": [
  {
   "cell_type": "code",
   "execution_count": 2,
   "metadata": {},
   "outputs": [
    {
     "name": "stdout",
     "output_type": "stream",
     "text": [
      "True\n",
      "0\n",
      "NVIDIA GeForce RTX 2070 SUPER\n"
     ]
    }
   ],
   "source": [
    "from transformers import pipeline, Conversation, AutoModelForCausalLM, AutoTokenizer, AutoModelForSeq2SeqLM\n",
    "import torch\n",
    "model_name = \"NousResearch/Hermes-2-Pro-Llama-3-8B\"\n",
    "\n",
    "print(torch.cuda.is_available())\n",
    "print(torch.cuda.current_device())\n",
    "print(torch.cuda.get_device_name(torch.cuda.current_device()))"
   ]
  },
  {
   "cell_type": "code",
   "execution_count": 5,
   "metadata": {},
   "outputs": [
    {
     "name": "stderr",
     "output_type": "stream",
     "text": [
      "Special tokens have been added in the vocabulary, make sure the associated word embeddings are fine-tuned or trained.\n",
      "The `load_in_4bit` and `load_in_8bit` arguments are deprecated and will be removed in the future versions. Please, pass a `BitsAndBytesConfig` object in `quantization_config` argument instead.\n",
      "`low_cpu_mem_usage` was None, now set to True since model is quantized.\n"
     ]
    },
    {
     "data": {
      "application/vnd.jupyter.widget-view+json": {
       "model_id": "0e8ba628bbcd430eb4897799cac049ba",
       "version_major": 2,
       "version_minor": 0
      },
      "text/plain": [
       "Loading checkpoint shards:   0%|          | 0/4 [00:00<?, ?it/s]"
      ]
     },
     "metadata": {},
     "output_type": "display_data"
    }
   ],
   "source": [
    "\n",
    "\n",
    "tokenizer = AutoTokenizer.from_pretrained(model_name)\n",
    "#model = AutoModelForCausalLM.from_pretrained(model_name)\n",
    "\n",
    "# using Seq2Seq pipeline model=model. using Causal pipeline model=model breaks. Causal pipline model=model_name works fine but\n",
    "# just for potential model customization in future, like down here with torch_dtype, using model=model better so need to use Seq2Seq\n",
    "# torch_dtype=torch.float16, load_in_8bit=True REDUCES TIME FROM 12S TO 3S! confirmed via testing.\n",
    "model = AutoModelForCausalLM.from_pretrained(model_name,\n",
    "        torch_dtype=torch.float16, load_in_8bit=True)\n",
    "\n",
    "\n",
    "#generator = pipeline(\"conversational\", model=model, tokenizer=tokenizer)   # takes upwards of 1 min, immeseured.\n",
    "#generator = pipeline(\"conversational\", model=model_name)     # 12 sec\n",
    "generator = pipeline(\"conversational\", model=model, tokenizer=tokenizer)   # 15sec"
   ]
  },
  {
   "cell_type": "code",
   "execution_count": 3,
   "metadata": {},
   "outputs": [],
   "source": [
    "convo = Conversation(\"Hi, what's your name?\")\n"
   ]
  },
  {
   "cell_type": "code",
   "execution_count": 6,
   "metadata": {},
   "outputs": [
    {
     "name": "stderr",
     "output_type": "stream",
     "text": [
      "c:\\Users\\hbros\\AppData\\Local\\Programs\\Python\\Python312\\Lib\\site-packages\\transformers\\models\\llama\\modeling_llama.py:649: UserWarning: 1Torch was not compiled with flash attention. (Triggered internally at ..\\aten\\src\\ATen\\native\\transformers\\cuda\\sdp_utils.cpp:455.)\n",
      "  attn_output = torch.nn.functional.scaled_dot_product_attention(\n"
     ]
    }
   ],
   "source": [
    "response = generator(convo) "
   ]
  },
  {
   "cell_type": "code",
   "execution_count": 7,
   "metadata": {},
   "outputs": [
    {
     "name": "stdout",
     "output_type": "stream",
     "text": [
      "Conversation id: c646f3f9-f09b-4a5b-a58d-816a1b9d9aa7\n",
      "user: Hi, what's your name?\n",
      "assistant: I don't have a name, but you can refer to me as OpenAI or AI. How can I help you today?\n",
      "\n"
     ]
    }
   ],
   "source": [
    "print(response)"
   ]
  },
  {
   "cell_type": "markdown",
   "metadata": {},
   "source": [
    "Now to add a way for user inputs"
   ]
  },
  {
   "cell_type": "code",
   "execution_count": 8,
   "metadata": {},
   "outputs": [],
   "source": [
    "import gradio as gr"
   ]
  },
  {
   "cell_type": "code",
   "execution_count": 9,
   "metadata": {},
   "outputs": [
    {
     "name": "stdout",
     "output_type": "stream",
     "text": [
      "Running on local URL:  http://127.0.0.1:7860\n",
      "\n",
      "To create a public link, set `share=True` in `launch()`.\n"
     ]
    },
    {
     "data": {
      "text/html": [
       "<div><iframe src=\"http://127.0.0.1:7860/\" width=\"100%\" height=\"500\" allow=\"autoplay; camera; microphone; clipboard-read; clipboard-write;\" frameborder=\"0\" allowfullscreen></iframe></div>"
      ],
      "text/plain": [
       "<IPython.core.display.HTML object>"
      ]
     },
     "metadata": {},
     "output_type": "display_data"
    },
    {
     "data": {
      "text/plain": []
     },
     "execution_count": 9,
     "metadata": {},
     "output_type": "execute_result"
    }
   ],
   "source": [
    "inputs = []\n",
    "responses = []\n",
    "# inputs and responses could be combined to form a 'memory' of sorts\n",
    "# how to implement backstory/key memories? need to research\n",
    "\n",
    "def convo_bot(input):\n",
    "    convo = Conversation(text=input, past_user_inputs=inputs, generated_responses=responses)\n",
    "    response = generator(convo)\n",
    "\n",
    "    response_text = response.generated_responses[-1]\n",
    "    \n",
    "    # UPDATE MEMORY\n",
    "    inputs.append(input)  \n",
    "    responses.append(response_text)\n",
    "    # FIN UPDATE MEMORY\n",
    "\n",
    "    return response_text\n",
    "\n",
    "demo = gr.ChatInterface(convo_bot, title=\"Vanilla Chatbot\", description=\"...\")\n",
    "demo.launch()"
   ]
  }
 ],
 "metadata": {
  "kernelspec": {
   "display_name": "Python 3",
   "language": "python",
   "name": "python3"
  },
  "language_info": {
   "codemirror_mode": {
    "name": "ipython",
    "version": 3
   },
   "file_extension": ".py",
   "mimetype": "text/x-python",
   "name": "python",
   "nbconvert_exporter": "python",
   "pygments_lexer": "ipython3",
   "version": "3.12.3"
  }
 },
 "nbformat": 4,
 "nbformat_minor": 2
}
