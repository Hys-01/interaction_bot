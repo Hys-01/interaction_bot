{
 "cells": [
  {
   "cell_type": "code",
   "execution_count": 1,
   "metadata": {},
   "outputs": [
    {
     "name": "stdout",
     "output_type": "stream",
     "text": [
      "True\n",
      "0\n",
      "NVIDIA GeForce RTX 2070 SUPER\n"
     ]
    }
   ],
   "source": [
    "from transformers import pipeline, Conversation, AutoModelForCausalLM, AutoTokenizer, AutoModelForSeq2SeqLM, TextStreamer\n",
    "import torch\n",
    "model_name = \"NousResearch/Hermes-2-Pro-Llama-3-8B\"\n",
    "\n",
    "print(torch.cuda.is_available())\n",
    "print(torch.cuda.current_device())\n",
    "print(torch.cuda.get_device_name(torch.cuda.current_device()))"
   ]
  },
  {
   "cell_type": "code",
   "execution_count": null,
   "metadata": {},
   "outputs": [],
   "source": []
  },
  {
   "cell_type": "code",
   "execution_count": 2,
   "metadata": {},
   "outputs": [
    {
     "name": "stderr",
     "output_type": "stream",
     "text": [
      "Special tokens have been added in the vocabulary, make sure the associated word embeddings are fine-tuned or trained.\n",
      "The `load_in_4bit` and `load_in_8bit` arguments are deprecated and will be removed in the future versions. Please, pass a `BitsAndBytesConfig` object in `quantization_config` argument instead.\n",
      "`low_cpu_mem_usage` was None, now set to True since model is quantized.\n"
     ]
    },
    {
     "data": {
      "application/vnd.jupyter.widget-view+json": {
       "model_id": "a5aeec6a1cf144d3a5eb8ffe29d8c075",
       "version_major": 2,
       "version_minor": 0
      },
      "text/plain": [
       "Loading checkpoint shards:   0%|          | 0/4 [00:00<?, ?it/s]"
      ]
     },
     "metadata": {},
     "output_type": "display_data"
    }
   ],
   "source": [
    "\n",
    "tokenizer = AutoTokenizer.from_pretrained(model_name)\n",
    "#model = AutoModelForCausalLM.from_pretrained(model_name)\n",
    "\n",
    "# using Seq2Seq pipeline model=model. using Causal pipeline model=model breaks. Causal pipline model=model_name works fine but\n",
    "# just for potential model customization in future, like down here with torch_dtype, using model=model better so need to use Seq2Seq\n",
    "# torch_dtype=torch.float16, load_in_8bit=True REDUCES TIME FROM 12S TO 3S! confirmed via testing.\n",
    "model = AutoModelForCausalLM.from_pretrained(model_name,\n",
    "        torch_dtype=torch.float16, load_in_8bit=True)\n",
    "\n",
    "\n",
    "#generator = pipeline(\"conversational\", model=model, tokenizer=tokenizer)   # takes upwards of 1 min, immeseured.\n",
    "#generator = pipeline(\"conversational\", model=model_name)     # 12 sec\n",
    "streamer = TextStreamer(tokenizer)\n",
    "\n",
    "generator = pipeline(\"conversational\", model=model, tokenizer=tokenizer, streamer=streamer)   # 15sec\n"
   ]
  },
  {
   "cell_type": "code",
   "execution_count": 3,
   "metadata": {},
   "outputs": [],
   "source": [
    "convo = Conversation(\"Hi, what's your name?\")\n"
   ]
  },
  {
   "cell_type": "code",
   "execution_count": 4,
   "metadata": {},
   "outputs": [
    {
     "name": "stdout",
     "output_type": "stream",
     "text": [
      "<|begin_of_text|><|im_start|>user\n",
      "Hi, what's your name?<|im_end|>\n",
      "<|im_start|>assistant\n"
     ]
    },
    {
     "name": "stderr",
     "output_type": "stream",
     "text": [
      "c:\\Users\\hbros\\AppData\\Local\\Programs\\Python\\Python312\\Lib\\site-packages\\transformers\\models\\llama\\modeling_llama.py:649: UserWarning: 1Torch was not compiled with flash attention. (Triggered internally at ..\\aten\\src\\ATen\\native\\transformers\\cuda\\sdp_utils.cpp:455.)\n",
      "  attn_output = torch.nn.functional.scaled_dot_product_attention(\n"
     ]
    },
    {
     "name": "stdout",
     "output_type": "stream",
     "text": [
      "My name is Open Assistant. I'm here to help you with any questions you might have. Please feel free to ask anything.<|im_end|>\n"
     ]
    }
   ],
   "source": [
    "response = generator(convo) "
   ]
  },
  {
   "cell_type": "markdown",
   "metadata": {},
   "source": [
    "when using pipeline(... streamer=TextStreamer(TOKENZIEROBJ)), the output streams well when doing response=generator(convo).\n",
    "As it should. But in the actual gradio interface it seems to fail. Will commit this small progress a nyway."
   ]
  },
  {
   "cell_type": "code",
   "execution_count": 5,
   "metadata": {},
   "outputs": [
    {
     "name": "stdout",
     "output_type": "stream",
     "text": [
      "Conversation id: f333aa5b-4e7e-4fca-a551-f756cc5df822\n",
      "user: Hi, what's your name?\n",
      "assistant: My name is Open Assistant. I'm here to help you with any questions you might have. Please feel free to ask anything.\n",
      "\n"
     ]
    }
   ],
   "source": [
    "print(response)"
   ]
  },
  {
   "cell_type": "markdown",
   "metadata": {},
   "source": [
    "Now to add a way for user inputs"
   ]
  },
  {
   "cell_type": "code",
   "execution_count": 6,
   "metadata": {},
   "outputs": [],
   "source": [
    "import gradio as gr"
   ]
  },
  {
   "cell_type": "code",
   "execution_count": 7,
   "metadata": {},
   "outputs": [
    {
     "name": "stdout",
     "output_type": "stream",
     "text": [
      "Running on local URL:  http://127.0.0.1:7860\n",
      "\n",
      "To create a public link, set `share=True` in `launch()`.\n"
     ]
    },
    {
     "data": {
      "text/html": [
       "<div><iframe src=\"http://127.0.0.1:7860/\" width=\"100%\" height=\"500\" allow=\"autoplay; camera; microphone; clipboard-read; clipboard-write;\" frameborder=\"0\" allowfullscreen></iframe></div>"
      ],
      "text/plain": [
       "<IPython.core.display.HTML object>"
      ]
     },
     "metadata": {},
     "output_type": "display_data"
    },
    {
     "data": {
      "text/plain": []
     },
     "execution_count": 7,
     "metadata": {},
     "output_type": "execute_result"
    }
   ],
   "source": [
    "\n",
    "# inputs and responses could be combined to form a 'memory' of sorts\n",
    "# how to implement backstory/key memories? need to research\n",
    "inputs = []\n",
    "responses = []\n",
    "def inputOutput(input, chat_history):\n",
    "    global inputs, responses\n",
    "    convo = Conversation(text=input, past_user_inputs=inputs, generated_responses=responses)\n",
    "    response = generator(convo)\n",
    "\n",
    "    response_text = response.generated_responses[-1]\n",
    "    \n",
    "    # UPDATE MEMORY\n",
    "    #   WITHOUT APPENDING TO INPUT AND RESPONSES, IT CANNOT REMEMBER MY NAME\n",
    "    #   AFTER APPENDING, IT DOES. CONFIRMED MEMORY IS FUNCTIONAL.\n",
    "    inputs.append(input)\n",
    "    responses.append(response_text)\n",
    "    # FIN UPDATE MEMORY\n",
    "\n",
    "    return response_text\n",
    "\n",
    "demo = gr.ChatInterface(fn=inputOutput, title=\"Vanilla Chatbot\", description=\"...\") #, multimodel=True is not working???\n",
    "demo.launch()"
   ]
  }
 ],
 "metadata": {
  "kernelspec": {
   "display_name": "Python 3",
   "language": "python",
   "name": "python3"
  },
  "language_info": {
   "codemirror_mode": {
    "name": "ipython",
    "version": 3
   },
   "file_extension": ".py",
   "mimetype": "text/x-python",
   "name": "python",
   "nbconvert_exporter": "python",
   "pygments_lexer": "ipython3",
   "version": "3.12.3"
  }
 },
 "nbformat": 4,
 "nbformat_minor": 2
}
